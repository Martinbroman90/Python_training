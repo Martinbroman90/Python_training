{
  "cells": [
    {
      "cell_type": "markdown",
      "metadata": {
        "id": "view-in-github",
        "colab_type": "text"
      },
      "source": [
        "<a href=\"https://colab.research.google.com/github/Martinbroman90/Python_training/blob/main/quickstarts/Prompting.ipynb\" target=\"_parent\"><img src=\"https://colab.research.google.com/assets/colab-badge.svg\" alt=\"Open In Colab\"/></a>"
      ]
    },
    {
      "cell_type": "code",
      "source": [
        "# @title Default title text\n",
        "variable_name = \"\" # @param {\"type\":\"string\"}\n",
        "import pygame\n",
        "class ChessGame:\n",
        "  def __init__(self):\n",
        "            # Initialize the board and pieces\n",
        "      self.board = [\n",
        "            [\"R\", \"N\", \"B\", \"Q\", \"K\", \"B\", \"N\", \"R\"],\n",
        "            [\"P\", \"P\", \"P\", \"P\", \"P\", \"P\", \"P\", \"P\"],\n",
        "            [\" \", \" \", \" \", \" \", \" \", \" \", \" \", \" \"],\n",
        "            [\" \", \" \", \" \", \" \", \" \", \" \", \" \", \" \"],\n",
        "            [\" \", \" \", \" \", \" \", \" \", \" \", \" \", \" \"],\n",
        "            [\" \", \" \", \" \", \" \", \" \", \" \", \" \", \" \"],\n",
        "            [\"p\", \"p\", \"p\", \"p\", \"p\", \"p\", \"p\", \"p\"],\n",
        "            [\"r\", \"n\", \"b\", \"q\", \"k\", \"b\", \"n\", \"r\"]\n",
        "        ]"
      ],
      "metadata": {
        "id": "DBd3fbj4GWlN"
      },
      "execution_count": null,
      "outputs": []
    }
  ],
  "metadata": {
    "colab": {
      "name": "Prompting.ipynb",
      "provenance": [],
      "include_colab_link": true
    },
    "google": {
      "image_path": "/static/site-assets/images/docs/logo-python.svg",
      "keywords": [
        "examples",
        "gemini",
        "beginner",
        "googleai",
        "quickstart",
        "python",
        "text",
        "chat",
        "vision",
        "embed"
      ]
    },
    "kernelspec": {
      "display_name": "Python 3",
      "name": "python3"
    }
  },
  "nbformat": 4,
  "nbformat_minor": 0
}